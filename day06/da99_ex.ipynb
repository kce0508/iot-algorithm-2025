{
 "cells": [
  {
   "cell_type": "markdown",
   "metadata": {},
   "source": [
    "#### code 11-07 중앙값 계산"
   ]
  },
  {
   "cell_type": "code",
   "execution_count": 2,
   "metadata": {},
   "outputs": [
    {
     "name": "stdout",
     "output_type": "stream",
     "text": [
      "용돈 정렬 전 -->  [7, 5, 11, 6, 9, 80000, 10, 6, 15, 12]\n",
      "용돈 정렬 후 -->  [5, 6, 6, 7, 9, 10, 11, 12, 15, 80000]\n",
      "용돈 정렬 값 -->  10\n"
     ]
    }
   ],
   "source": [
    "# 클래스와 함수 선언\n",
    "def selectionSort(ary):\n",
    "    n = len(ary)\n",
    "    for i in range(0, n -1):\n",
    "        minIdx = i\n",
    "        for j in range(i + 1, n):\n",
    "            if(ary[minIdx] > ary[j]):\n",
    "                minIdx = j\n",
    "        tmp = ary[i]\n",
    "        ary[i] = ary[minIdx]\n",
    "        ary[minIdx] = tmp\n",
    "\n",
    "    return ary\n",
    "\n",
    "# 전역 변수 선언\n",
    "moneyAry = [7, 5, 11, 6, 9, 80000, 10, 6, 15, 12]\n",
    "\n",
    "# 메인 코드\n",
    "print('용돈 정렬 전 --> ', moneyAry)\n",
    "moneyAry = selectionSort(moneyAry)\n",
    "print('용돈 정렬 후 --> ' , moneyAry)\n",
    "print('용돈 정렬 값 --> ', moneyAry[len(moneyAry)//2])"
   ]
  },
  {
   "cell_type": "markdown",
   "metadata": {},
   "source": [
    "#### code 11-08 파일명으로 내림차순 정렬"
   ]
  },
  {
   "cell_type": "code",
   "execution_count": 3,
   "metadata": {},
   "outputs": [],
   "source": [
    "import os"
   ]
  },
  {
   "cell_type": "code",
   "execution_count": 4,
   "metadata": {},
   "outputs": [],
   "source": [
    "# 클래스와 함수 선언\n",
    "def makeFileList(folderName):\n",
    "    fnameAry = []\n",
    "    for dirName, subDirList, fnames in os.walk(folderName):\n",
    "        for fname in fnames:\n",
    "            fnameAry.append(fname)\n",
    "    return fnameAry\n",
    "\n",
    "def insertionSort(ary):\n",
    "    n = len(ary)\n",
    "    for end in range(1, n):\n",
    "        for cur in range(end, 0, -1):\n",
    "            if (ary[cur - 1] < ary[cur]):\n",
    "                ary[cur - 1], ary[cur] = ary[cur], ary[cur - 1]\n",
    "    \n",
    "    return ary\n"
   ]
  },
  {
   "cell_type": "code",
   "execution_count": 5,
   "metadata": {},
   "outputs": [
    {
     "name": "stdout",
     "output_type": "stream",
     "text": [
      "파일명 역순 정렬 -->  ['zh-phonetic.xml', 'zh-dayi.xml', 'zh-changjei.xml', 'wab32res.dll.mui', 'wab32res.dll', 'wab32.dll', 'vstoee90.tlb', 'vstoee100.tlb', 'vstoee.dll', 'vcruntime140_1.dll', 'vcruntime140.dll', 'vccorlib140.dll', 'ucrtbase.dll', 'tpcps.dll', 'tiptsf.dll', 'tipskins.dll', 'tipresx.dll.mui', 'tipresx.dll.mui', 'tipresx.dll.mui', 'tipresx.dll.mui', 'tipresx.dll.mui', 'tipresx.dll.mui', 'tipresx.dll.mui', 'tipresx.dll.mui', 'tipresx.dll.mui', 'tipresx.dll.mui', 'tipresx.dll.mui', 'tipresx.dll.mui', 'tipresx.dll.mui', 'tipresx.dll.mui', 'tipresx.dll.mui', 'tipresx.dll.mui', 'tipresx.dll.mui', 'tipresx.dll.mui', 'tipresx.dll.mui', 'tipresx.dll.mui', 'tipresx.dll.mui', 'tipresx.dll.mui', 'tipresx.dll.mui', 'tipresx.dll.mui', 'tipresx.dll.mui', 'tipresx.dll.mui', 'tipresx.dll.mui', 'tipresx.dll.mui', 'tipresx.dll.mui', 'tipresx.dll.mui', 'tipresx.dll.mui', 'tipresx.dll.mui', 'tipresx.dll.mui', 'tipresx.dll.mui', 'tipresx.dll.mui', 'tipresx.dll.mui', 'tipresx.dll.mui', 'tipresx.dll.mui', 'tipresx.dll.mui', 'tipresx.dll.mui', 'tipresx.dll.mui', 'tipresx.dll.mui', 'tipresx.dll.mui', 'tipresx.dll.mui', 'tipresx.dll.mui', 'tipresx.dll.mui', 'tipresx.dll.mui', 'tipresx.dll.mui', 'tipresx.dll.mui', 'tipresx.dll.mui', 'tipresx.dll.mui', 'tipresx.dll.mui', 'tipresx.dll.mui', 'tipresx.dll.mui', 'tipresx.dll.mui', 'tipresx.dll.mui', 'tipresx.dll.mui', 'tipresx.dll.mui', 'tipresx.dll.mui', 'tipresx.dll.mui', 'tipresx.dll.mui', 'tipresx.dll.mui', 'tipresx.dll.mui', 'tipresx.dll.mui', 'tipresx.dll.mui', 'tipresx.dll.mui', 'tipresx.dll.mui', 'tipresx.dll.mui', 'tipresx.dll.mui', 'tipresx.dll.mui', 'tipresx.dll.mui', 'tipresx.dll.mui', 'tipresx.dll.mui', 'tipresx.dll.mui', 'tipresx.dll.mui', 'tipresx.dll.mui', 'tipresx.dll.mui', 'tipresx.dll.mui', 'tipresx.dll.mui', 'tipresx.dll.mui', 'tipresx.dll.mui', 'tipresx.dll.mui', 'tipresx.dll.mui', 'tipresx.dll.mui', 'tipresx.dll.mui', 'tipresx.dll.mui', 'tipresx.dll.mui', 'tipresx.dll.mui', 'tipresx.dll.mui', 'tipresx.dll.mui', 'tipresx.dll', 'tabskb.dll.mui', 'tabskb.dll', 'symbols.xml', 'symbase.xml', 'sqlxmlx.rll.mui', 'sqlxmlx.rll', 'sqlxmlx.dll', 'sqloledb.rll.mui', 'sqloledb.rll', 'sqloledb.dll', 'rtscom.dll.mui', 'rtscom.dll', 'policy.dll', 'pkeyconfig.companion.dll', 'pkeyconfig-office.xrm-ms', 'pidgenx.dll', 'oskpredbase.xml', 'oskpred.xml', 'osknumpadbase.xml', 'osknumpad.xml', 'osknavbase.xml', 'osknav.xml', 'oskmenubase.xml', 'oskmenu.xml', 'oskclearuibase.xml', 'oskclearui.xml', 'oledbvbs.inc', 'oledbjvs.inc', 'oledb32r.dll.mui', 'oledb32r.dll', 'oledb32.dll', 'offreg.dll', 'officesvcmgrschedule.xml', 'officesvcmgr.exe', 'officeinventory.dll', 'msxactps.dll', 'msvcr120.dll', 'msvcp140.dll', 'msvcp120.dll', 'msix.dll', 'msinfo32.exe.mui', 'msinfo32.exe', 'mshwstaging.dll', 'mshwrwisp.dll', 'mshwgst.dll', 'msdfmap.dll', 'msdatl3.dll', 'msdasqlr.dll.mui', 'msdasqlr.dll', 'msdasql.dll', 'msdaremr.dll.mui', 'msdaremr.dll', 'msdarem.dll', 'msdaps.dll', 'msdaprst.dll', 'msdaprsr.dll.mui', 'msdaprsr.dll', 'msdaosp.dll', 'msadrh15.dll', 'msadox28.tlb', 'msadox.dll', 'msador28.tlb', 'msador15.dll', 'msadomd28.tlb', 'msadomd.dll', 'msado60.tlb', 'msado28.tlb', 'msado27.tlb', 'msado26.tlb', 'msado25.tlb', 'msado21.tlb', 'msado20.tlb', 'msado15.dll', 'msader15.dll.mui', 'msader15.dll', 'msaddsr.dll.mui', 'msaddsr.dll', 'msadds.dll', 'msadcor.dll.mui', 'msadcor.dll', 'msadco.dll', 'msadcer.dll.mui', 'msadcer.dll', 'msadce.dll', 'mraut.dll', 'micaut.dll.mui', 'micaut.dll', 'manageability.dll', 'main.xml', 'kor-kor.xml', 'ko-kr.xml', 'keypadbase.xml', 'keypad.xml', 'ja-jp.xml', 'ja-jp-sym.xml', 'inventory.dll', 'insertbase.xml', 'insert.xml', 'i640.hash', 'i640.cab.cat', 'ea.xml', 'ea-sym.xml', 'cpprestsdk.dll', 'concrt140.dll', 'base_rtl.xml', 'base_kor.xml', 'base_jpn.xml', 'base_heb.xml', 'base_ca.xml', 'base_altgr.xml', 'baseAltGr_rtl.xml', 'base.xml', 'auxpad.xml', 'auxbase.xml', 'appvcleaner.exe', 'api-ms-win-crt-utility-l1-1-0.dll', 'api-ms-win-crt-time-l1-1-0.dll', 'api-ms-win-crt-string-l1-1-0.dll', 'api-ms-win-crt-stdio-l1-1-0.dll', 'api-ms-win-crt-runtime-l1-1-0.dll', 'api-ms-win-crt-process-l1-1-0.dll', 'api-ms-win-crt-private-l1-1-0.dll', 'api-ms-win-crt-multibyte-l1-1-0.dll', 'api-ms-win-crt-math-l1-1-0.dll', 'api-ms-win-crt-locale-l1-1-0.dll', 'api-ms-win-crt-heap-l1-1-0.dll', 'api-ms-win-crt-filesystem-l1-1-0.dll', 'api-ms-win-crt-environment-l1-1-0.dll', 'api-ms-win-crt-convert-l1-1-0.dll', 'api-ms-win-crt-conio-l1-1-0.dll', 'api-ms-win-core-xstate-l2-1-0.dll', 'api-ms-win-core-timezone-l1-1-0.dll', 'api-ms-win-core-synch-l1-2-0.dll', 'api-ms-win-core-processthreads-l1-1-1.dll', 'api-ms-win-core-localization-l1-2-0.dll', 'api-ms-win-core-file-l2-1-0.dll', 'api-ms-win-core-file-l1-2-0.dll', 'adovbs.inc', 'adojavas.inc', 'adcvbs.inc', 'adcjavas.inc', 'VSTOMessageProvider.dll', 'VSTOLoaderUI.dll', 'VSTOLoaderUI.dll', 'VSTOLoader.dll', 'VSTOInstallerUI.dll', 'VSTOInstallerUI.dll', 'VSTOInstaller.exe', 'VGX.dll', 'TipTsf.dll.mui', 'TipRes.dll.mui', 'TipRes.dll', 'TabTip.exe.mui', 'TabTip.exe', 'SubsystemController.man', 'StreamServer.dll', 'SharedPerformance.man', 'ServiceWatcherSchedule.xml', 'RepoMan.dll', 'OfficeClickToRun.exe', 'OfficeC2RCom.dll', 'OfficeC2RClient.exe', 'Microsoft.Ink.dll', 'Microsoft.Ink.Intelligence.TextInput.Skill.dll', 'Microsoft.Ink.Intelligence.TextInput.Implementation.dll', 'MavInject32.exe', 'MSADDNDR.OLB', 'LICLUA.EXE', 'IntegratedOffice.exe', 'InspectorOfficeGadget.exe', 'InkObj.dll.mui', 'InkObj.dll', 'InkDiv.dll', 'FrequentOfficeUpdateSchedule.xml', 'ClientEventLogMessages.man', 'ClientCapabilities.json', 'C2RUI.dll', 'C2RINTL.zh-tw.dll', 'C2RINTL.zh-cn.dll', 'C2RINTL.vi-vn.dll', 'C2RINTL.uk-ua.dll', 'C2RINTL.tr-tr.dll', 'C2RINTL.th-th.dll', 'C2RINTL.sv-se.dll', 'C2RINTL.sr-latn-rs.dll', 'C2RINTL.sl-si.dll', 'C2RINTL.sk-sk.dll', 'C2RINTL.ru-ru.dll', 'C2RINTL.ro-ro.dll', 'C2RINTL.pt-pt.dll', 'C2RINTL.pt-br.dll', 'C2RINTL.pl-pl.dll', 'C2RINTL.nl-nl.dll', 'C2RINTL.nb-no.dll', 'C2RINTL.ms-my.dll', 'C2RINTL.lv-lv.dll', 'C2RINTL.lt-lt.dll', 'C2RINTL.ko-kr.dll', 'C2RINTL.kk-kz.dll', 'C2RINTL.ja-jp.dll', 'C2RINTL.it-it.dll', 'C2RINTL.id-id.dll', 'C2RINTL.hu-hu.dll', 'C2RINTL.hr-hr.dll', 'C2RINTL.hi-in.dll', 'C2RINTL.he-il.dll', 'C2RINTL.fr-fr.dll', 'C2RINTL.fr-ca.dll', 'C2RINTL.fi-fi.dll', 'C2RINTL.et-ee.dll', 'C2RINTL.es-mx.dll', 'C2RINTL.es-es.dll', 'C2RINTL.en-us.dll', 'C2RINTL.en-gb.dll', 'C2RINTL.el-gr.dll', 'C2RINTL.de-de.dll', 'C2RINTL.da-dk.dll', 'C2RINTL.cs-cz.dll', 'C2RINTL.bg-bg.dll', 'C2RINTL.ar-sa.dll', 'C2RHeartbeatConfig.xml', 'C2R64.dll', 'C2R32.dll', 'AppvIsvSubsystems64_arm64x.dll', 'AppvIsvSubsystems64.dll', 'AppvIsvSubsystems32_msix.dll', 'AppvIsvSubsystems32.dll', 'AppVShNotify.exe', 'AppVScripting.dll', 'AppVPolicy.dll', 'AppVOrchestration.dll', 'AppVManifest.dll', 'AppVIsvVirtualization.dll', 'AppVIsvSubsystems64_msix.dll', 'AppVIsvSubsystemController.dll', 'AppVIsvStreamingManager.dll', 'AppVIsvApi.dll', 'AppVIntegration.dll', 'AppVFileSystemMetadata.dll', 'AppVClientIsv.man', 'AppVClient.man', 'AppVCatalog.dll', 'ApiClient.dll', '.LNK']\n"
     ]
    }
   ],
   "source": [
    "# 전역 변수 선언\n",
    "fileAry = []\n",
    "\n",
    "# 메인코드 \n",
    "fileAry = makeFileList('C:/program Files/Common Files')\n",
    "fileAry = insertionSort(fileAry)\n",
    "print('파일명 역순 정렬 --> ', fileAry)"
   ]
  }
 ],
 "metadata": {
  "kernelspec": {
   "display_name": "3.11.9",
   "language": "python",
   "name": "python3"
  },
  "language_info": {
   "codemirror_mode": {
    "name": "ipython",
    "version": 3
   },
   "file_extension": ".py",
   "mimetype": "text/x-python",
   "name": "python",
   "nbconvert_exporter": "python",
   "pygments_lexer": "ipython3",
   "version": "3.11.9"
  }
 },
 "nbformat": 4,
 "nbformat_minor": 2
}
