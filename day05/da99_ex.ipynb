{
 "cells": [
  {
   "cell_type": "markdown",
   "metadata": {},
   "source": [
    "- 허니버터칩이 가장 많이 남은 편의점 찾기"
   ]
  },
  {
   "cell_type": "code",
   "execution_count": 6,
   "metadata": {},
   "outputs": [],
   "source": [
    "## 클래스와 함수 선언 부분\n",
    "class Graph():\n",
    "    def __init__(self, size):\n",
    "        self.SIZE = size\n",
    "        self.graph = [[0 for _ in range(size)] for _ in range(size)]"
   ]
  },
  {
   "cell_type": "code",
   "execution_count": 10,
   "metadata": {},
   "outputs": [],
   "source": [
    "def printGraph(g):\n",
    "    print(' ', end=' ')\n",
    "    for v in range(g.SIZE):\n",
    "        print(\"%9s\" % storeAry[v][0], end=' ')\n",
    "    print()\n",
    "    for row in range(g.SIZE):\n",
    "        print(\"%9s\" % storeAry[row][0], end=' ')\n",
    "        for col in range(g.SIZE):\n",
    "            print(\"%8d\" % g.graph[row][col], end=' ')\n",
    "        print()\n",
    "    print()"
   ]
  },
  {
   "cell_type": "code",
   "execution_count": 11,
   "metadata": {},
   "outputs": [],
   "source": [
    "## 전역 변수 선언 부분\n",
    "G1 = None\n",
    "storeAry = [['GS25', 30], ['CU', 60],['Seven11', 10], ['MiniStop', 90], ['Emart24', 40]]\n",
    "GS25, CU, Seven11, MiniStop, Emart24 = 0, 1, 2, 3, 4"
   ]
  },
  {
   "cell_type": "code",
   "execution_count": 12,
   "metadata": {},
   "outputs": [
    {
     "name": "stdout",
     "output_type": "stream",
     "text": [
      "## 편의점 그래프 ##\n",
      "       GS25        CU   Seven11  MiniStop   Emart24 \n",
      "     GS25        0        1        1        0        0 \n",
      "       CU        1        0        1        1        0 \n",
      "  Seven11        1        1        0        1        0 \n",
      " MiniStop        0        1        1        0        1 \n",
      "  Emart24        0        0        0        1        0 \n",
      "\n"
     ]
    },
    {
     "ename": "KeyboardInterrupt",
     "evalue": "",
     "output_type": "error",
     "traceback": [
      "\u001b[1;31m---------------------------------------------------------------------------\u001b[0m",
      "\u001b[1;31mKeyboardInterrupt\u001b[0m                         Traceback (most recent call last)",
      "Cell \u001b[1;32mIn[12], line 27\u001b[0m\n\u001b[0;32m     25\u001b[0m \u001b[38;5;28;01mif\u001b[39;00m G1\u001b[38;5;241m.\u001b[39mgraph[current][vertex] \u001b[38;5;241m==\u001b[39m \u001b[38;5;241m1\u001b[39m:\n\u001b[0;32m     26\u001b[0m     \u001b[38;5;28;01mif\u001b[39;00m vertex \u001b[38;5;129;01min\u001b[39;00m visitedAry:    \u001b[38;5;66;03m# 방문한 적이 있는 편의점이면 탈락\u001b[39;00m\n\u001b[1;32m---> 27\u001b[0m         \u001b[38;5;28;01mpass\u001b[39;00m\n\u001b[0;32m     28\u001b[0m     \u001b[38;5;28;01melse\u001b[39;00m:   \u001b[38;5;66;03m# 방문한 적이 없는 편의점이면 다음 편의점으로 지정\u001b[39;00m\n\u001b[0;32m     29\u001b[0m         \u001b[38;5;28mnext\u001b[39m \u001b[38;5;241m=\u001b[39m vertex\n",
      "\u001b[1;31mKeyboardInterrupt\u001b[0m: "
     ]
    }
   ],
   "source": [
    "## 메인 코드 부분\n",
    "gSize = 5\n",
    "G1 = Graph(gSize)\n",
    "G1.graph[GS25][CU] = 1; G1.graph[GS25][Seven11] = 1\n",
    "G1.graph[CU][GS25] = 1; G1.graph[CU][Seven11] = 1; G1.graph[CU][MiniStop] = 1\n",
    "G1.graph[Seven11][GS25] = 1; G1.graph[Seven11][CU] = 1; G1.graph[Seven11][MiniStop] = 1\n",
    "G1.graph[MiniStop][Seven11] = 1; G1.graph[MiniStop][CU] = 1; G1.graph[MiniStop][Emart24] = 1\n",
    "G1.graph[Emart24][MiniStop] = 1\n",
    "\n",
    "print('## 편의점 그래프 ##')\n",
    "printGraph(G1)\n",
    "\n",
    "stack = []\n",
    "visitedAry = [] # 방문한 편의점\n",
    "\n",
    "current = 0 # 시작 편의점\n",
    "maxStore = current  # 최대 개수 편의점 번호(GS25)\n",
    "maxCount = storeAry[current][1] # 편의점에 있는 허니버터 숫자\n",
    "stack.append(current)\n",
    "visitedAry.append(current)\n",
    "\n",
    "while (len(stack) != 0):\n",
    "    next = None\n",
    "    for vertex in range(gSize):\n",
    "        if G1.graph[current][vertex] == 1:\n",
    "            if vertex in visitedAry:    # 방문한 적이 있는 편의점이면 탈락\n",
    "                pass\n",
    "            else:   # 방문한 적이 없는 편의점이면 다음 편의점으로 지정\n",
    "                next = vertex\n",
    "                break\n",
    "\n",
    "    if next != None:\n",
    "        current = next\n",
    "        stack.append(current)\n",
    "        visitedAry.append(current)\n",
    "        \n",
    "        if storeAry[current][1] > maxCount:\n",
    "            maxCount = storeAry[current][1]\n",
    "            maxStore = current\n",
    "        else:   # 방문할 다음 편의점이 없는 경우\n",
    "            current = stack.pop()\n",
    "\n",
    "print('허니버터칩 최대 보유 편의점(개수) -->', storeAry[maxStore][0], '(', storeAry[maxStore][1], ')')"
   ]
  }
 ],
 "metadata": {
  "kernelspec": {
   "display_name": "3.11.9",
   "language": "python",
   "name": "python3"
  },
  "language_info": {
   "codemirror_mode": {
    "name": "ipython",
    "version": 3
   },
   "file_extension": ".py",
   "mimetype": "text/x-python",
   "name": "python",
   "nbconvert_exporter": "python",
   "pygments_lexer": "ipython3",
   "version": "3.11.9"
  }
 },
 "nbformat": 4,
 "nbformat_minor": 2
}
