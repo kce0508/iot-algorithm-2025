{
 "cells": [
  {
   "cell_type": "markdown",
   "metadata": {},
   "source": [
    "#### 원형 큐(07-11)"
   ]
  },
  {
   "cell_type": "code",
   "execution_count": 3,
   "metadata": {},
   "outputs": [],
   "source": [
    "SIZE = int(input('큐크기 입력 > '))\n",
    "queue = [None for _ in range(SIZE)]\n",
    "front = rear = 0"
   ]
  },
  {
   "cell_type": "code",
   "execution_count": 4,
   "metadata": {},
   "outputs": [],
   "source": [
    "def isQueueFull():\n",
    "    global SIZE, queue, front, rear\n",
    "    if ((rear + 1) % SIZE == front):\n",
    "        return True\n",
    "    else:\n",
    "        return False"
   ]
  },
  {
   "cell_type": "code",
   "execution_count": 5,
   "metadata": {},
   "outputs": [],
   "source": [
    "def isQueueEmpty():\n",
    "    global SIZE, queue, front, rear\n",
    "    if front == rear:\n",
    "        return True\n",
    "    else:\n",
    "        return False"
   ]
  },
  {
   "cell_type": "code",
   "execution_count": 6,
   "metadata": {},
   "outputs": [],
   "source": [
    "def enQueue(data):\n",
    "    global SIZE, queue, front, rear\n",
    "    if isQueueFull():\n",
    "        print('Queue is full!!')\n",
    "        return\n",
    "    rear = (rear + 1) % SIZE\n",
    "    queue[rear] = data"
   ]
  },
  {
   "cell_type": "code",
   "execution_count": 7,
   "metadata": {},
   "outputs": [],
   "source": [
    "def deQueue():\n",
    "    global SIZE, queue, front, rear\n",
    "    if isQueueEmpty():\n",
    "        print('Queue is empty')\n",
    "        return None\n",
    "    front = (front + 1) % SIZE\n",
    "    data = queue[front]\n",
    "    queue[front] = None\n",
    "    return data"
   ]
  },
  {
   "cell_type": "code",
   "execution_count": 8,
   "metadata": {},
   "outputs": [],
   "source": [
    "def peek():\n",
    "    global SIZE, queue, front, rear\n",
    "    if isQueueEmpty():\n",
    "        print('Queue is empty')\n",
    "        return None\n",
    "    return queue[(front + 1) % SIZE]"
   ]
  },
  {
   "cell_type": "code",
   "execution_count": 10,
   "metadata": {},
   "outputs": [
    {
     "name": "stdout",
     "output_type": "stream",
     "text": [
      "메인 시작!\n",
      "큐 상태 : [None, 'coffee', 'coffee', None, None]\n",
      "큐 상태 : [None, 'coffee', 'coffee', 'latte', None]\n",
      "큐 상태 : [None, 'coffee', 'coffee', 'latte', 'ice cream']\n",
      "Queue is full!!\n",
      "큐 상태 : [None, 'coffee', 'coffee', 'latte', 'ice cream']\n",
      "추출 데이터 : coffee\n",
      "큐 상태 : [None, None, 'coffee', 'latte', 'ice cream']\n",
      "추출 데이터 : coffee\n",
      "큐 상태 : [None, None, None, 'latte', 'ice cream']\n",
      "추출 데이터 : latte\n",
      "큐 상태 : [None, None, None, None, 'ice cream']\n",
      "추출 데이터 : ice cream\n",
      "큐 상태 : [None, None, None, None, None]\n",
      "Queue is empty\n",
      "추출 데이터 : None\n",
      "큐 상태 : [None, None, None, None, None]\n",
      "Queue is empty\n",
      "추출 데이터 : None\n",
      "큐 상태 : [None, None, None, None, None]\n",
      "Queue is empty\n",
      "추출 데이터 : None\n",
      "큐 상태 : [None, None, None, None, None]\n",
      "Queue is empty\n",
      "추출 데이터 : None\n",
      "큐 상태 : [None, None, None, None, None]\n",
      "큐 상태 : ['coffee', None, None, None, None]\n",
      "입력 오류\n"
     ]
    }
   ],
   "source": [
    "if __name__ == '__main__':\n",
    "    print('메인 시작!')\n",
    "    while True:\n",
    "        select = input('삽입(I)/추출(E)/확인(V)/종료(Q) --> ').upper()\n",
    "\n",
    "        if select == 'Q':\n",
    "            break\n",
    "        elif select == 'I':\n",
    "            data = input('데이터 입력 > ')\n",
    "            enQueue(data)\n",
    "            print(f'큐 상태 : {queue}')\n",
    "        elif select == 'E':\n",
    "            data = deQueue()\n",
    "            print(f'추출 데이터 : {data}')\n",
    "            print(f'큐 상태 : {queue}')\n",
    "        elif select == 'V':\n",
    "            data = peek()\n",
    "            print(f'확인 데이터 : {data}')\n",
    "            print(f'큐 상태 : {queue}')\n",
    "        else:\n",
    "            print('입력 오류')\n"
   ]
  }
 ],
 "metadata": {
  "kernelspec": {
   "display_name": "3.11.9",
   "language": "python",
   "name": "python3"
  },
  "language_info": {
   "codemirror_mode": {
    "name": "ipython",
    "version": 3
   },
   "file_extension": ".py",
   "mimetype": "text/x-python",
   "name": "python",
   "nbconvert_exporter": "python",
   "pygments_lexer": "ipython3",
   "version": "3.11.9"
  }
 },
 "nbformat": 4,
 "nbformat_minor": 2
}
