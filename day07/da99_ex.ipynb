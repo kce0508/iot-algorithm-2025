{
 "cells": [
  {
   "cell_type": "markdown",
   "metadata": {},
   "source": [
    "#### 응용 예제 : 이미 정렬된 줄에 끼어들기"
   ]
  },
  {
   "cell_type": "code",
   "execution_count": 1,
   "metadata": {},
   "outputs": [],
   "source": [
    "import random\n",
    "import time"
   ]
  },
  {
   "cell_type": "code",
   "execution_count": 2,
   "metadata": {},
   "outputs": [],
   "source": [
    "# 클래스와 함수 선언 부분\n",
    "def bubbleSort(ary):\n",
    "    n = len(ary)\n",
    "    for end in range(n-1, 0, -1):\n",
    "        chageYN = False\n",
    "        for cur in range(0, end):\n",
    "            if (ary[cur] > ary[cur + 1]):\n",
    "                ary[cur], ary[cur + 1] = ary[cur + 1], ary[cur]\n",
    "                chageYN = True\n",
    "        if not chageYN:\n",
    "            break\n",
    "    return ary\n",
    "\n",
    "def qSort(arr, start, end):\n",
    "    if end <= start:\n",
    "        return\n",
    "    \n",
    "    low = start\n",
    "    high = end\n",
    "    \n",
    "    pivot = arr[(low + high) // 2]  # 작은 값은 왼쪽, 큰 값은 오른쪽\n",
    "    while low <= high:\n",
    "        while arr[low] < pivot:\n",
    "            low += 1\n",
    "        while arr[high] > pivot:\n",
    "            high -= 1\n",
    "        if low <= high:\n",
    "            arr[low], arr[high] = arr[high], arr[low]\n",
    "            low, high = low + 1, high -1\n",
    "\n",
    "    mid = low\n",
    "\n",
    "    qSort(arr, start, mid-1)\n",
    "    qSort(arr, mid, end)\n",
    "\n",
    "def quickSort(ary):\n",
    "    qSort(ary, 0, len(ary)-1)"
   ]
  },
  {
   "cell_type": "code",
   "execution_count": 4,
   "metadata": {},
   "outputs": [
    {
     "name": "stdout",
     "output_type": "stream",
     "text": [
      "# 데이터 개수  -->  1000000\n",
      "# 끼어든 위치 -->  354798\n",
      "다시 정렬 시간(버블정렬) -->      0.140초\n",
      "다시 정렬 시간(퀵 정렬) -->      0.795 초\n"
     ]
    }
   ],
   "source": [
    "# 메인 코드\n",
    "tempAry = [random.randint(10000, 99999) for _ in range(1000000)]\n",
    "tempAry.sort()\n",
    "\n",
    "rndPos = random.randint(0, len(tempAry)-1)\n",
    "print('# 데이터 개수  --> ', len(tempAry))\n",
    "print('# 끼어든 위치 --> ', rndPos)\n",
    "tempAry.insert(rndPos, tempAry[-1])\n",
    "\n",
    "bubbleAry = tempAry[:]\n",
    "quickAry = tempAry[:]\n",
    "\n",
    "start = time.time()\n",
    "bubbleSort(bubbleAry)\n",
    "end = time.time()\n",
    "print('다시 정렬 시간(버블정렬) --> %10.3f초'%(end-start))\n",
    "\n",
    "start = time.time()\n",
    "quickSort(quickAry)\n",
    "end = time.time()\n",
    "print('다시 정렬 시간(퀵 정렬) --> %10.3f 초'%(end-start))"
   ]
  },
  {
   "cell_type": "markdown",
   "metadata": {},
   "source": [
    "#### 동적 계획법의 응용"
   ]
  },
  {
   "cell_type": "code",
   "execution_count": 9,
   "metadata": {},
   "outputs": [],
   "source": [
    "# 황금 미로\n",
    "황금미로 = [\n",
    "    [1, 4, 4, 2, 2],\n",
    "    [1, 3, 3, 0, 5],\n",
    "    [1, 2, 4, 3, 0],\n",
    "    [3, 3, 0, 4, 2], \n",
    "    [1, 3, 4, 5, 3]]\n",
    "\n",
    "메모이제이션=[[0 for _ in range(5)] for _ in range(5)]\n",
    "\n",
    "열합계 = 황금미로[0][0]\n",
    "for i in range(1, 5):\n",
    "    열합계 += 황금미로[i][0]\n",
    "    메모이제이션[i][0] = 열합계\n",
    "\n",
    "행합계 = 황금미로[0][0]\n",
    "for i in range(1, 5):\n",
    "    행합계 += 황금미로[0][i]\n",
    "    메모이제이션[0][i] = 행합계\n",
    "\n",
    "for row in range(1, 5):\n",
    "    for col in range(1, 5):\n",
    "        if (메모이제이션[row][col-1] > 메모이제이션[row-1][col]):\n",
    "            메모이제이션[row][col] = 메모이제이션[row][col-1] + 황금미로[row][col]\n",
    "        else:\n",
    "            메모이제이션[row][col] = 메모이제이션[row-1][col] + 황금미로[row][col]"
   ]
  },
  {
   "cell_type": "markdown",
   "metadata": {},
   "source": [
    "#### code14-02 동적 계획법 활용(황금 미로)"
   ]
  },
  {
   "cell_type": "code",
   "execution_count": 10,
   "metadata": {},
   "outputs": [],
   "source": [
    "ROW, COL = 5, 5\n",
    "goldMaze = [[1, 4, 4, 2, 2],\n",
    "    [1, 3, 3, 0, 5],\n",
    "    [1, 2, 4, 3, 0],\n",
    "    [3, 3, 0, 4, 2], \n",
    "    [1, 3, 4, 5, 3]]"
   ]
  },
  {
   "cell_type": "code",
   "execution_count": 11,
   "metadata": {},
   "outputs": [],
   "source": [
    "# 클래스와 함수 선언\n",
    "def growRich():\n",
    "    memo = [[0 for _ in range(COL)] for _ in range(ROW)]\n",
    "    memo[0][0] = goldMaze[0][0]\n",
    "\n",
    "    rowSum = memo[0][0]\n",
    "    for i in range(1, ROW):\n",
    "        rowSum += goldMaze[0][i]\n",
    "        memo[0][i] = rowSum\n",
    "\n",
    "    colSum = memo[0][0]\n",
    "    for i in range(1, COL):\n",
    "        colSum += goldMaze[i][0]\n",
    "        memo[i][0] = colSum\n",
    "\n",
    "    for row in range(1, ROW):\n",
    "        for col in range(1, COL):\n",
    "            if (memo[row][col-1] > memo[row-1][col]):\n",
    "                memo[row][col] = memo[row][col-1] + goldMaze[row][col]\n",
    "            else:\n",
    "                memo[row][col] = memo[row-1][col] + goldMaze[row][col]\n",
    "    \n",
    "    return memo[ROW-1][COL-1]\n"
   ]
  },
  {
   "cell_type": "code",
   "execution_count": 12,
   "metadata": {},
   "outputs": [
    {
     "name": "stdout",
     "output_type": "stream",
     "text": [
      "황금 미로에서 얻은 최대 황금 개수 -->  31\n"
     ]
    }
   ],
   "source": [
    "# 메인코드\n",
    "macolGold = growRich()\n",
    "print('황금 미로에서 얻은 최대 황금 개수 --> ', macolGold)"
   ]
  }
 ],
 "metadata": {
  "kernelspec": {
   "display_name": "3.11.9",
   "language": "python",
   "name": "python3"
  },
  "language_info": {
   "codemirror_mode": {
    "name": "ipython",
    "version": 3
   },
   "file_extension": ".py",
   "mimetype": "text/x-python",
   "name": "python",
   "nbconvert_exporter": "python",
   "pygments_lexer": "ipython3",
   "version": "3.11.9"
  }
 },
 "nbformat": 4,
 "nbformat_minor": 2
}
